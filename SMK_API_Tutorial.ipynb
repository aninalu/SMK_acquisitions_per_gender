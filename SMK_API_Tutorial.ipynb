{
 "cells": [
  {
   "cell_type": "code",
   "execution_count": 1,
   "metadata": {},
   "outputs": [],
   "source": [
    "### useful info\n",
    "# About the SMK OPEN project: https://www.smk.dk/en/article/smk-open/\n",
    "# API documentation: https://www.smk.dk/en/article/smk-api/"
   ]
  },
  {
   "cell_type": "code",
   "execution_count": 2,
   "metadata": {},
   "outputs": [],
   "source": [
    "### importing libraries\n",
    "import requests as requests # for calling the API\n",
    "from time import sleep # for slowing down the loop\n",
    "import json #for reading and writing json files"
   ]
  },
  {
   "cell_type": "code",
   "execution_count": 3,
   "metadata": {},
   "outputs": [
    {
     "data": {
      "text/plain": [
       "93840"
      ]
     },
     "execution_count": 3,
     "metadata": {},
     "output_type": "execute_result"
    }
   ],
   "source": [
    "### downloading all ids\n",
    "# contacting art endpoint\n",
    "id_endpoint = requests.get(\"https://api.smk.dk/api/v1/art/all_ids\")\n",
    "id_endpoint = id_endpoint.json() \n",
    "\n",
    "### creating a clean list with all of the object IDs.\n",
    "objectIDs = id_endpoint.get('objectIDs')\n",
    "\n",
    "### printing the current number of registered art pieced in the data base\n",
    "len(objectIDs) \n",
    "\n",
    "# Object IDs are also refered to as \"Object Number\" in SMK's browser interface. Each art registration \n",
    "# has an object number/ID.\n",
    "# See the following URL as an example: https://open.smk.dk/en/artwork/image/KMS3696?q=*&page=0\n",
    "\n"
   ]
  },
  {
   "cell_type": "code",
   "execution_count": 30,
   "metadata": {},
   "outputs": [
    {
     "data": {
      "text/plain": [
       "93708"
      ]
     },
     "execution_count": 30,
     "metadata": {},
     "output_type": "execute_result"
    }
   ],
   "source": [
    "len(metadata)"
   ]
  },
  {
   "cell_type": "code",
   "execution_count": null,
   "metadata": {},
   "outputs": [],
   "source": [
    "#### using a 'for loop' to downloading all metadata for each art piece\n",
    "length = len(objectIDs) #100 art pieces. If you want ALL art pieces, replace 'objectIDs[0:100]' with 'objectIDs'\n",
    "metadata = [] #creating an empty list where we will store the metadata\n",
    "\n",
    "for i in range(length):\n",
    "    object_number = {\"object_number\": objectIDs[i]} # converting object number int a dict class\n",
    "    response = requests.get(\"https://api.smk.dk/api/v1/art/\", params = object_number) ### ruqesting metadata for the specific object number\n",
    "    response = response.json()\n",
    "    response = response.get('items') # keeping only 'items' with meta data for the respective art piece\n",
    "    metadata = metadata + response # accumulating the meta data with each iteration\n",
    "    sleep(0.1) # resting for 0.1 seconds after each iteration so that we do not overload the API\n",
    "    print(i)"
   ]
  },
  {
   "cell_type": "code",
   "execution_count": 28,
   "metadata": {},
   "outputs": [
    {
     "ename": "IndexError",
     "evalue": "list index out of range",
     "output_type": "error",
     "traceback": [
      "\u001b[0;31m---------------------------------------------------------------------------\u001b[0m",
      "\u001b[0;31mIndexError\u001b[0m                                Traceback (most recent call last)",
      "\u001b[0;32m<ipython-input-28-04e3307fb721>\u001b[0m in \u001b[0;36m<module>\u001b[0;34m\u001b[0m\n\u001b[1;32m      1\u001b[0m \u001b[0;31m### how does the data look like? Accesing the first art piece\u001b[0m\u001b[0;34m\u001b[0m\u001b[0;34m\u001b[0m\u001b[0;34m\u001b[0m\u001b[0m\n\u001b[0;32m----> 2\u001b[0;31m \u001b[0mmetadata\u001b[0m\u001b[0;34m[\u001b[0m\u001b[0;36m93836\u001b[0m\u001b[0;34m]\u001b[0m\u001b[0;34m\u001b[0m\u001b[0;34m\u001b[0m\u001b[0m\n\u001b[0m",
      "\u001b[0;31mIndexError\u001b[0m: list index out of range"
     ]
    }
   ],
   "source": [
    "### how does the data look like? Accesing the first art piece\n",
    "metadata[93836]"
   ]
  },
  {
   "cell_type": "code",
   "execution_count": null,
   "metadata": {},
   "outputs": [],
   "source": []
  },
  {
   "cell_type": "code",
   "execution_count": 10,
   "metadata": {},
   "outputs": [],
   "source": [
    "### storing the data as json file in your directory\n",
    "\n",
    "with open('alldatasmkopen.txt', 'w') as outfile:\n",
    "    json.dump(metadata, outfile)\n"
   ]
  },
  {
   "cell_type": "code",
   "execution_count": 43,
   "metadata": {},
   "outputs": [],
   "source": [
    "### loading the data from your directory\n",
    "with open('alldatasmkopen.txt') as json_file:\n",
    "    new_data = json.load(json_file)"
   ]
  }
 ],
 "metadata": {
  "kernelspec": {
   "display_name": "Python 3",
   "language": "python",
   "name": "python3"
  },
  "language_info": {
   "codemirror_mode": {
    "name": "ipython",
    "version": 3
   },
   "file_extension": ".py",
   "mimetype": "text/x-python",
   "name": "python",
   "nbconvert_exporter": "python",
   "pygments_lexer": "ipython3",
   "version": "3.8.5"
  }
 },
 "nbformat": 4,
 "nbformat_minor": 4
}
