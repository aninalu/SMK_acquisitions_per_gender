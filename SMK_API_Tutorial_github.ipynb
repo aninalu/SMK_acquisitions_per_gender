{
 "cells": [
  {
   "cell_type": "code",
   "execution_count": 1,
   "metadata": {},
   "outputs": [],
   "source": [
    "### useful info\n",
    "# About the SMK OPEN project: https://www.smk.dk/en/article/smk-open/\n",
    "# API documentation: https://www.smk.dk/en/article/smk-api/"
   ]
  },
  {
   "cell_type": "code",
   "execution_count": 2,
   "metadata": {},
   "outputs": [],
   "source": [
    "### importing libraries\n",
    "import requests as requests # for calling the API\n",
    "from time import sleep # for slowing down the loop\n",
    "import json #for reading and writing json files"
   ]
  },
  {
   "cell_type": "code",
   "execution_count": 3,
   "metadata": {},
   "outputs": [
    {
     "data": {
      "text/plain": [
       "93840"
      ]
     },
     "execution_count": 3,
     "metadata": {},
     "output_type": "execute_result"
    }
   ],
   "source": [
    "### downloading all ids\n",
    "# contacting art endpoint\n",
    "id_endpoint = requests.get(\"https://api.smk.dk/api/v1/art/all_ids\")\n",
    "id_endpoint = id_endpoint.json() \n",
    "\n",
    "### creating a clean list with all of the object IDs.\n",
    "objectIDs = id_endpoint.get('objectIDs')\n",
    "\n",
    "### printing the current number of registered art pieced in the data base\n",
    "len(objectIDs) \n",
    "\n",
    "# Object IDs are also refered to as \"Object Number\" in SMK's browser interface. Each art registration \n",
    "# has an object number/ID.\n",
    "# See the following URL as an example: https://open.smk.dk/en/artwork/image/KMS3696?q=*&page=0\n",
    "\n"
   ]
  },
  {
   "cell_type": "code",
   "execution_count": null,
   "metadata": {},
   "outputs": [],
   "source": [
    "#### using a 'for loop' to downloading all metadata for each art piece\n",
    "length = len(objectIDs) #100 art pieces. If you want ALL art pieces, replace 'objectIDs[0:100]' with 'objectIDs'\n",
    "metadata = [] #creating an empty list where we will store the metadata\n",
    "\n",
    "for i in range(length):\n",
    "    object_number = {\"object_number\": objectIDs[i]} # converting object number int a dict class\n",
    "    response = requests.get(\"https://api.smk.dk/api/v1/art/\", params = object_number) ### ruqesting metadata for the specific object number\n",
    "    response = response.json()\n",
    "    response = response.get('items') # keeping only 'items' with meta data for the respective art piece\n",
    "    metadata = metadata + response # accumulating the meta data with each iteration\n",
    "    sleep(0.1) # resting for 0.1 seconds after each iteration so that we do not overload the API\n",
    "    print(i)"
   ]
  },
  {
   "cell_type": "code",
   "execution_count": null,
   "metadata": {},
   "outputs": [],
   "source": [
    "### how does the data look like? Accessing the first art piece\n",
    "metadata[93836]"
   ]
  }
 ],
 "metadata": {
  "kernelspec": {
   "display_name": "Python 3",
   "language": "python",
   "name": "python3"
  },
  "language_info": {
   "codemirror_mode": {
    "name": "ipython",
    "version": 3
   },
   "file_extension": ".py",
   "mimetype": "text/x-python",
   "name": "python",
   "nbconvert_exporter": "python",
   "pygments_lexer": "ipython3",
   "version": "3.8.5"
  }
 },
 "nbformat": 4,
 "nbformat_minor": 4
}
